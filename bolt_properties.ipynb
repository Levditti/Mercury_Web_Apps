{
 "cells": [
  {
   "cell_type": "raw",
   "id": "6685d08c-0168-41cb-8802-a20156157491",
   "metadata": {},
   "source": [
    "---\n",
    "title: Bolt Properties\n",
    "author: Levi Venditti\n",
    "description: CISC and AISC Bolt Properties\n",
    "show-code: False\n",
    "show-prompt: False\n",
    "    diameter:\n",
    "        label: Bolt Diameter\n",
    "        input: select\n",
    "        value: 1\n",
    "        choices: [1, 2]\n",
    "---"
   ]
  },
  {
   "cell_type": "code",
   "execution_count": null,
   "id": "47a2f172-daff-4858-b4a9-a4b474d88c42",
   "metadata": {},
   "outputs": [],
   "source": []
  },
  {
   "cell_type": "markdown",
   "id": "5762972e-912f-4eaf-bd42-16719811db6e",
   "metadata": {},
   "source": [
    "# Tension"
   ]
  },
  {
   "cell_type": "code",
   "execution_count": null,
   "id": "9cf5a588-d667-43fc-a767-da2b3628a96d",
   "metadata": {},
   "outputs": [],
   "source": []
  },
  {
   "cell_type": "markdown",
   "id": "00456d67-9f20-41ee-a9de-5fe8cfaa5fa2",
   "metadata": {},
   "source": [
    "Example Calculation"
   ]
  },
  {
   "cell_type": "code",
   "execution_count": null,
   "id": "19067ebc-6e50-46e1-81ac-bc3bb7ae8904",
   "metadata": {},
   "outputs": [],
   "source": []
  },
  {
   "cell_type": "markdown",
   "id": "754e5d5e-128f-4a07-affa-4401177e9f31",
   "metadata": {},
   "source": [
    "# Shear"
   ]
  },
  {
   "cell_type": "code",
   "execution_count": null,
   "id": "c92610c9-2a29-4a8b-ab57-5659faba9e2a",
   "metadata": {},
   "outputs": [],
   "source": []
  },
  {
   "cell_type": "markdown",
   "id": "325ade5d-a06a-4af4-9e46-e5cc27eb481a",
   "metadata": {},
   "source": [
    "Example Calculation"
   ]
  },
  {
   "cell_type": "code",
   "execution_count": null,
   "id": "0e8173db-37ee-4a79-8b52-6db0960fde32",
   "metadata": {},
   "outputs": [],
   "source": []
  }
 ],
 "metadata": {
  "kernelspec": {
   "display_name": "Python 3 (ipykernel)",
   "language": "python",
   "name": "python3"
  },
  "language_info": {
   "codemirror_mode": {
    "name": "ipython",
    "version": 3
   },
   "file_extension": ".py",
   "mimetype": "text/x-python",
   "name": "python",
   "nbconvert_exporter": "python",
   "pygments_lexer": "ipython3",
   "version": "3.9.12"
  }
 },
 "nbformat": 4,
 "nbformat_minor": 5
}
