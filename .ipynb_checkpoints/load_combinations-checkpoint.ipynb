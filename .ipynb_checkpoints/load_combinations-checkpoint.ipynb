{
 "cells": [
  {
   "cell_type": "raw",
   "id": "6b43e68a-111c-4294-98b6-dcb855bdbf5f",
   "metadata": {},
   "source": [
    "---\n",
    "title: Load Combinations\n",
    "author: Levi Venditti\n",
    "description: NBCC Load Combination Calculator\n",
    "show-code: False\n",
    "show-prompt: False\n",
    "params: \n",
    "    units:\n",
    "        input: select \n",
    "        label: Units \n",
    "        value: kN\n",
    "        choices: [N, kN, lb, kip]    \n",
    "    dead_load:\n",
    "        input: numeric \n",
    "        label: Dead Load (+ downwards) \n",
    "        value: 0\n",
    "    live_load:\n",
    "        input: numeric \n",
    "        label: Live Load (+ downwards) \n",
    "        value: 0\n",
    "    wind_load:\n",
    "        input: numeric \n",
    "        label: Wind Load (+ downwards)  \n",
    "        value: 0\n",
    "    snow_load:\n",
    "        input: numeric \n",
    "        label: Snow Load (+ downwards) \n",
    "        value: 0\n",
    "    earthquake_load:\n",
    "        input: numeric \n",
    "        label: Earthquake Load (+ downwards) \n",
    "        value: 0        \n",
    "---"
   ]
  },
  {
   "cell_type": "code",
   "execution_count": 1,
   "id": "659c99dd-130f-467e-9099-53ab9fea0fd9",
   "metadata": {},
   "outputs": [],
   "source": [
    "import handcalcs.render\n",
    "import forallpeople\n",
    "forallpeople.environment('structural', top_level=True)"
   ]
  },
  {
   "cell_type": "code",
   "execution_count": 2,
   "id": "6b68c224-4a84-4f52-aba2-d10614fe6350",
   "metadata": {},
   "outputs": [],
   "source": [
    "dead_load = 0\n",
    "live_load = 0\n",
    "wind_load = 0\n",
    "snow_load = 0\n",
    "earthquake_load = 0\n",
    "units = 'kN'"
   ]
  },
  {
   "cell_type": "code",
   "execution_count": 3,
   "id": "e4ec3daf-4092-4799-b9ff-c1f5d1c89e65",
   "metadata": {},
   "outputs": [],
   "source": [
    "if units == 'N':\n",
    "    D = dead_load * N\n",
    "    L = live_load * N\n",
    "    W = wind_load * N\n",
    "    S = snow_load * N\n",
    "    E = earthquake_load * N\n",
    "elif units == 'kN':\n",
    "    D = dead_load * kN\n",
    "    L = live_load * kN\n",
    "    W = wind_load * kN\n",
    "    S = snow_load * kN\n",
    "    E = earthquake_load * kN\n",
    "elif units == 'lb':\n",
    "    D = dead_load * lb\n",
    "    L = live_load * lb\n",
    "    W = wind_load * lb\n",
    "    S = snow_load * lb\n",
    "    E = earthquake_load * lb\n",
    "elif units == 'kip':\n",
    "    D = dead_load * kip\n",
    "    L = live_load * kip\n",
    "    W = wind_load * kip\n",
    "    S = snow_load * kip\n",
    "    E = earthquake_load * kip"
   ]
  },
  {
   "cell_type": "markdown",
   "id": "ab3ab164-262e-4f15-bfee-ddaf1099f681",
   "metadata": {},
   "source": [
    "## Parameters"
   ]
  },
  {
   "cell_type": "code",
   "execution_count": 4,
   "id": "dab04455-03f9-4212-b7de-db1b1029aaf2",
   "metadata": {},
   "outputs": [
    {
     "data": {
      "text/latex": [
       "\\[\n",
       "\\begin{aligned}\n",
       "D &= 0.000\\ \\mathrm{N} \\; \n",
       " &L &= 0.000\\ \\mathrm{N} \\; \n",
       " &W &= 0.000\\ \\mathrm{N} \\; \n",
       "\\\\[10pt]\n",
       " S &= 0.000\\ \\mathrm{N} \\; \n",
       " &E &= 0.000\\ \\mathrm{N} \\;\n",
       "\\end{aligned}\n",
       "\\]"
      ],
      "text/plain": [
       "<IPython.core.display.Latex object>"
      ]
     },
     "metadata": {},
     "output_type": "display_data"
    }
   ],
   "source": [
    "%%render params\n",
    "D\n",
    "L\n",
    "W\n",
    "S\n",
    "E"
   ]
  },
  {
   "cell_type": "markdown",
   "id": "32789eed-0eb7-410f-85d5-b3954f362b8b",
   "metadata": {},
   "source": [
    "## NBCC Limits States Load Combinations"
   ]
  },
  {
   "cell_type": "markdown",
   "id": "a85e2263-328f-4d28-bdb1-ed84a9d7702c",
   "metadata": {},
   "source": [
    "Load Case 1"
   ]
  },
  {
   "cell_type": "code",
   "execution_count": 5,
   "id": "c389a800-9076-4f57-a88d-980b27859253",
   "metadata": {},
   "outputs": [
    {
     "data": {
      "text/latex": [
       "\\[\n",
       "\\begin{aligned}\n",
       "\\mathrm{LC1} &= 1.4 \\cdot D  = 1.4 \\cdot 0.000\\ \\mathrm{N} &= 0.000\\ \\mathrm{N}  \n",
       "\\end{aligned}\n",
       "\\]"
      ],
      "text/plain": [
       "<IPython.core.display.Latex object>"
      ]
     },
     "metadata": {},
     "output_type": "display_data"
    }
   ],
   "source": [
    "%%render\n",
    "LC1 = 1.4 * D "
   ]
  },
  {
   "cell_type": "markdown",
   "id": "4a255952-4a1d-4e6d-b6b7-c3d5bb847a99",
   "metadata": {},
   "source": [
    "Load Case 2"
   ]
  },
  {
   "cell_type": "code",
   "execution_count": 6,
   "id": "e13ae028-9a9b-420b-8b85-7c82c286ec11",
   "metadata": {},
   "outputs": [
    {
     "data": {
      "text/latex": [
       "\\[\n",
       "\\begin{aligned}\n",
       "\\mathrm{LC2a} &= \\left( 1.25 \\cdot D \\right) + \\left( 1.5 \\cdot L \\right)  = \\left( 1.25 \\cdot 0.000\\ \\mathrm{N} \\right) + \\left( 1.5 \\cdot 0.000\\ \\mathrm{N} \\right) &= 0.000\\ \\mathrm{N}  \n",
       "\\\\[10pt]\n",
       "\\mathrm{LC2b} &= \\left( 1.25 \\cdot D \\right) + \\left( 1.5 \\cdot L \\right) + \\left( 1.0 \\cdot S \\right) \\\\&= \\left( 1.25 \\cdot 0.000\\ \\mathrm{N} \\right) + \\left( 1.5 \\cdot 0.000\\ \\mathrm{N} \\right) + \\left( 1.0 \\cdot 0.000\\ \\mathrm{N} \\right) \\\\&= 0.000\\ \\mathrm{N}  \\\\[10pt]\n",
       "\\\\[10pt]\n",
       "\\mathrm{LC2c} &= \\left( 1.25 \\cdot D \\right) + \\left( 1.5 \\cdot L \\right) + \\left( 0.4 \\cdot W \\right) \\\\&= \\left( 1.25 \\cdot 0.000\\ \\mathrm{N} \\right) + \\left( 1.5 \\cdot 0.000\\ \\mathrm{N} \\right) + \\left( 0.4 \\cdot 0.000\\ \\mathrm{N} \\right) \\\\&= 0.000\\ \\mathrm{N}  \\\\[10pt]\n",
       "\\\\[10pt]\n",
       "\\mathrm{LC2d} &= \\left( 0.9 \\cdot D \\right) + \\left( 1.5 \\cdot L \\right)  = \\left( 0.9 \\cdot 0.000\\ \\mathrm{N} \\right) + \\left( 1.5 \\cdot 0.000\\ \\mathrm{N} \\right) &= 0.000\\ \\mathrm{N}  \n",
       "\\\\[10pt]\n",
       "\\mathrm{LC2e} &= \\left( 0.9 \\cdot D \\right) + \\left( 1.5 \\cdot L \\right) + \\left( 1.0 \\cdot S \\right) \\\\&= \\left( 0.9 \\cdot 0.000\\ \\mathrm{N} \\right) + \\left( 1.5 \\cdot 0.000\\ \\mathrm{N} \\right) + \\left( 1.0 \\cdot 0.000\\ \\mathrm{N} \\right) \\\\&= 0.000\\ \\mathrm{N}  \\\\[10pt]\n",
       "\\\\[10pt]\n",
       "\\mathrm{LC2f} &= \\left( 0.9 \\cdot D \\right) + \\left( 1.5 \\cdot L \\right) + \\left( 0.4 \\cdot W \\right) \\\\&= \\left( 0.9 \\cdot 0.000\\ \\mathrm{N} \\right) + \\left( 1.5 \\cdot 0.000\\ \\mathrm{N} \\right) + \\left( 0.4 \\cdot 0.000\\ \\mathrm{N} \\right) \\\\&= 0.000\\ \\mathrm{N}  \\\\[10pt]\n",
       "\\end{aligned}\n",
       "\\]"
      ],
      "text/plain": [
       "<IPython.core.display.Latex object>"
      ]
     },
     "metadata": {},
     "output_type": "display_data"
    }
   ],
   "source": [
    "%%render\n",
    "LC2a = (1.25 * D) + (1.5 * L)\n",
    "LC2b = (1.25 * D) + (1.5 * L) + (1.0 * S)\n",
    "LC2c = (1.25 * D) + (1.5 * L) + (0.4 * W)\n",
    "LC2d = (0.9 * D) + (1.5 * L)\n",
    "LC2e = (0.9 * D) + (1.5 * L) + (1.0 * S)\n",
    "LC2f = (0.9 * D) + (1.5 * L) + (0.4 * W)"
   ]
  },
  {
   "cell_type": "code",
   "execution_count": 7,
   "id": "b578ee9a-352e-4da1-8396-b318930cd4fb",
   "metadata": {},
   "outputs": [],
   "source": [
    "LC2_max = max(LC2a, LC2b, LC2c, LC2d, LC2e, LC2f)\n",
    "LC2_min = min(LC2a, LC2b, LC2c, LC2d, LC2e, LC2f)"
   ]
  },
  {
   "cell_type": "markdown",
   "id": "e07b5935-da9a-4f44-b2f5-4ff7d4ff08cd",
   "metadata": {},
   "source": [
    "Load Case 3"
   ]
  },
  {
   "cell_type": "code",
   "execution_count": 8,
   "id": "adc272a8-37b9-4396-afea-6be34c5e817f",
   "metadata": {},
   "outputs": [
    {
     "data": {
      "text/latex": [
       "\\[\n",
       "\\begin{aligned}\n",
       "\\mathrm{LC3a} &= \\left( 1.25 \\cdot D \\right) + \\left( 1.5 \\cdot S \\right)  = \\left( 1.25 \\cdot 0.000\\ \\mathrm{N} \\right) + \\left( 1.5 \\cdot 0.000\\ \\mathrm{N} \\right) &= 0.000\\ \\mathrm{N}  \n",
       "\\\\[10pt]\n",
       "\\mathrm{LC3b} &= \\left( 1.25 \\cdot D \\right) + \\left( 1.5 \\cdot S \\right) + \\left( 1.0 \\cdot L \\right) \\\\&= \\left( 1.25 \\cdot 0.000\\ \\mathrm{N} \\right) + \\left( 1.5 \\cdot 0.000\\ \\mathrm{N} \\right) + \\left( 1.0 \\cdot 0.000\\ \\mathrm{N} \\right) \\\\&= 0.000\\ \\mathrm{N}  \\\\[10pt]\n",
       "\\\\[10pt]\n",
       "\\mathrm{LC3c} &= \\left( 1.25 \\cdot D \\right) + \\left( 1.5 \\cdot S \\right) + \\left( 0.4 \\cdot W \\right) \\\\&= \\left( 1.25 \\cdot 0.000\\ \\mathrm{N} \\right) + \\left( 1.5 \\cdot 0.000\\ \\mathrm{N} \\right) + \\left( 0.4 \\cdot 0.000\\ \\mathrm{N} \\right) \\\\&= 0.000\\ \\mathrm{N}  \\\\[10pt]\n",
       "\\\\[10pt]\n",
       "\\mathrm{LC3d} &= \\left( 0.9 \\cdot D \\right) + \\left( 1.5 \\cdot S \\right)  = \\left( 0.9 \\cdot 0.000\\ \\mathrm{N} \\right) + \\left( 1.5 \\cdot 0.000\\ \\mathrm{N} \\right) &= 0.000\\ \\mathrm{N}  \n",
       "\\\\[10pt]\n",
       "\\mathrm{LC3e} &= \\left( 0.9 \\cdot D \\right) + \\left( 1.5 \\cdot S \\right) + \\left( 1.0 \\cdot L \\right) \\\\&= \\left( 0.9 \\cdot 0.000\\ \\mathrm{N} \\right) + \\left( 1.5 \\cdot 0.000\\ \\mathrm{N} \\right) + \\left( 1.0 \\cdot 0.000\\ \\mathrm{N} \\right) \\\\&= 0.000\\ \\mathrm{N}  \\\\[10pt]\n",
       "\\\\[10pt]\n",
       "\\mathrm{LC3f} &= \\left( 0.9 \\cdot D \\right) + \\left( 1.5 \\cdot S \\right) + \\left( 0.4 \\cdot W \\right) \\\\&= \\left( 0.9 \\cdot 0.000\\ \\mathrm{N} \\right) + \\left( 1.5 \\cdot 0.000\\ \\mathrm{N} \\right) + \\left( 0.4 \\cdot 0.000\\ \\mathrm{N} \\right) \\\\&= 0.000\\ \\mathrm{N}  \\\\[10pt]\n",
       "\\end{aligned}\n",
       "\\]"
      ],
      "text/plain": [
       "<IPython.core.display.Latex object>"
      ]
     },
     "metadata": {},
     "output_type": "display_data"
    }
   ],
   "source": [
    "%%render\n",
    "LC3a = (1.25 * D) + (1.5 * S)\n",
    "LC3b = (1.25 * D) + (1.5 * S) + (1.0 * L)\n",
    "LC3c = (1.25 * D) + (1.5 * S) + (0.4 * W)\n",
    "LC3d = (0.9 * D) + (1.5 * S)\n",
    "LC3e = (0.9 * D) + (1.5 * S) + (1.0 * L)\n",
    "LC3f = (0.9 * D) + (1.5 * S) + (0.4 * W)"
   ]
  },
  {
   "cell_type": "code",
   "execution_count": 9,
   "id": "34222255-b0b1-499a-8896-cfae60456a7e",
   "metadata": {},
   "outputs": [],
   "source": [
    "LC3_max = max(LC3a, LC3b, LC3c, LC3d, LC3e, LC3f)\n",
    "LC3_min = min(LC3a, LC3b, LC3c, LC3d, LC3e, LC3f)"
   ]
  },
  {
   "cell_type": "markdown",
   "id": "993854b6-4133-4ce2-a373-7453c13e5375",
   "metadata": {},
   "source": [
    "Load Case 4"
   ]
  },
  {
   "cell_type": "code",
   "execution_count": 10,
   "id": "23cd2abe-2188-44f5-98fc-6eac866791d7",
   "metadata": {},
   "outputs": [
    {
     "data": {
      "text/latex": [
       "\\[\n",
       "\\begin{aligned}\n",
       "\\mathrm{LC4a} &= \\left( 1.25 \\cdot D \\right) + \\left( 1.4 \\cdot W \\right)  = \\left( 1.25 \\cdot 0.000\\ \\mathrm{N} \\right) + \\left( 1.4 \\cdot 0.000\\ \\mathrm{N} \\right) &= 0.000\\ \\mathrm{N}  \n",
       "\\\\[10pt]\n",
       "\\mathrm{LC4b} &= \\left( 1.25 \\cdot D \\right) + \\left( 1.4 \\cdot W \\right) + \\left( 0.5 \\cdot L \\right) \\\\&= \\left( 1.25 \\cdot 0.000\\ \\mathrm{N} \\right) + \\left( 1.4 \\cdot 0.000\\ \\mathrm{N} \\right) + \\left( 0.5 \\cdot 0.000\\ \\mathrm{N} \\right) \\\\&= 0.000\\ \\mathrm{N}  \\\\[10pt]\n",
       "\\\\[10pt]\n",
       "\\mathrm{LC4c} &= \\left( 1.25 \\cdot D \\right) + \\left( 1.4 \\cdot W \\right) + \\left( 0.5 \\cdot S \\right) \\\\&= \\left( 1.25 \\cdot 0.000\\ \\mathrm{N} \\right) + \\left( 1.4 \\cdot 0.000\\ \\mathrm{N} \\right) + \\left( 0.5 \\cdot 0.000\\ \\mathrm{N} \\right) \\\\&= 0.000\\ \\mathrm{N}  \\\\[10pt]\n",
       "\\\\[10pt]\n",
       "\\mathrm{LC4d} &= \\left( 0.9 \\cdot D \\right) + \\left( 1.4 \\cdot W \\right)  = \\left( 0.9 \\cdot 0.000\\ \\mathrm{N} \\right) + \\left( 1.4 \\cdot 0.000\\ \\mathrm{N} \\right) &= 0.000\\ \\mathrm{N}  \n",
       "\\\\[10pt]\n",
       "\\mathrm{LC4e} &= \\left( 0.9 \\cdot D \\right) + \\left( 1.4 \\cdot W \\right) + \\left( 0.5 \\cdot L \\right) \\\\&= \\left( 0.9 \\cdot 0.000\\ \\mathrm{N} \\right) + \\left( 1.4 \\cdot 0.000\\ \\mathrm{N} \\right) + \\left( 0.5 \\cdot 0.000\\ \\mathrm{N} \\right) \\\\&= 0.000\\ \\mathrm{N}  \\\\[10pt]\n",
       "\\\\[10pt]\n",
       "\\mathrm{LC4f} &= \\left( 0.9 \\cdot D \\right) + \\left( 1.4 \\cdot W \\right) + \\left( 0.5 \\cdot S \\right) \\\\&= \\left( 0.9 \\cdot 0.000\\ \\mathrm{N} \\right) + \\left( 1.4 \\cdot 0.000\\ \\mathrm{N} \\right) + \\left( 0.5 \\cdot 0.000\\ \\mathrm{N} \\right) \\\\&= 0.000\\ \\mathrm{N}  \\\\[10pt]\n",
       "\\end{aligned}\n",
       "\\]"
      ],
      "text/plain": [
       "<IPython.core.display.Latex object>"
      ]
     },
     "metadata": {},
     "output_type": "display_data"
    }
   ],
   "source": [
    "%%render\n",
    "LC4a = (1.25 * D) + (1.4 * W)\n",
    "LC4b = (1.25 * D) + (1.4 * W) + (0.5 * L)\n",
    "LC4c = (1.25 * D) + (1.4 * W) + (0.5 * S)\n",
    "LC4d = (0.9 * D) + (1.4 * W)\n",
    "LC4e = (0.9 * D) + (1.4 * W) + (0.5 * L)\n",
    "LC4f = (0.9 * D) + (1.4 * W) + (0.5 * S)"
   ]
  },
  {
   "cell_type": "markdown",
   "id": "78555e64-52eb-492d-a6b0-8e50dce0e8a5",
   "metadata": {},
   "source": [
    "Load Case 5"
   ]
  },
  {
   "cell_type": "code",
   "execution_count": 11,
   "id": "0c0750fc-3c57-46d7-8259-50c99268f8e6",
   "metadata": {},
   "outputs": [],
   "source": [
    "LC4_max = max(LC4a, LC4b, LC4c, LC4d, LC4e, LC4f)\n",
    "LC4_min = min(LC4a, LC4b, LC4c, LC4d, LC4e, LC4f)"
   ]
  },
  {
   "cell_type": "code",
   "execution_count": 12,
   "id": "d1d7ee55-331f-49cd-9037-3eb703420686",
   "metadata": {},
   "outputs": [
    {
     "data": {
      "text/latex": [
       "\\[\n",
       "\\begin{aligned}\n",
       "\\mathrm{LC5a} &= \\left( 1.0 \\cdot D \\right) + \\left( 1.0 \\cdot E \\right)  = \\left( 1.0 \\cdot 0.000\\ \\mathrm{N} \\right) + \\left( 1.0 \\cdot 0.000\\ \\mathrm{N} \\right) &= 0.000\\ \\mathrm{N}  \n",
       "\\\\[10pt]\n",
       "\\mathrm{LC5b} &= \\left( 1.0 \\cdot D \\right) + \\left( 1.0 \\cdot E \\right) + \\left( 0.5 \\cdot L \\right) + \\left( 0.25 \\cdot S \\right) \\\\&= \\left( 1.0 \\cdot 0.000\\ \\mathrm{N} \\right) + \\left( 1.0 \\cdot 0.000\\ \\mathrm{N} \\right) + \\left( 0.5 \\cdot 0.000\\ \\mathrm{N} \\right) + \\left( 0.25 \\cdot 0.000\\ \\mathrm{N} \\right) \\\\&= 0.000\\ \\mathrm{N}  \\\\[10pt]\n",
       "\\end{aligned}\n",
       "\\]"
      ],
      "text/plain": [
       "<IPython.core.display.Latex object>"
      ]
     },
     "metadata": {},
     "output_type": "display_data"
    }
   ],
   "source": [
    "%%render\n",
    "LC5a = (1.0 * D) + (1.0 * E)\n",
    "LC5b = (1.0 * D) + (1.0 * E) + (0.5 * L) + (0.25 * S)"
   ]
  },
  {
   "cell_type": "code",
   "execution_count": 13,
   "id": "88436af2-16bc-4b58-b0ba-27cb3640fae9",
   "metadata": {},
   "outputs": [],
   "source": [
    "LC5_max = max(LC5a, LC5b)\n",
    "LC5_min = min(LC5a, LC5b)"
   ]
  },
  {
   "cell_type": "markdown",
   "id": "4a30b238-8ba8-4fef-aeda-0fb1252ac883",
   "metadata": {},
   "source": [
    "Governing Gravity Force"
   ]
  },
  {
   "cell_type": "code",
   "execution_count": 14,
   "id": "d28b4ce9-8f0d-47f9-8028-97ebf4e0088a",
   "metadata": {},
   "outputs": [],
   "source": [
    "LC_gravity = max(LC1, LC2_max, LC3_max, LC4_max, LC5_max)"
   ]
  },
  {
   "cell_type": "code",
   "execution_count": 15,
   "id": "743c629e-9c50-4fb7-a5a3-682b3408db34",
   "metadata": {},
   "outputs": [
    {
     "data": {
      "text/latex": [
       "\\[\n",
       "\\begin{aligned}\n",
       "\\mathrm{LC}_{gravity} &= 0.000\\ \\mathrm{N} \\; \n",
       "\\end{aligned}\n",
       "\\]"
      ],
      "text/plain": [
       "<IPython.core.display.Latex object>"
      ]
     },
     "metadata": {},
     "output_type": "display_data"
    }
   ],
   "source": [
    "%%render\n",
    "LC_gravity"
   ]
  },
  {
   "cell_type": "markdown",
   "id": "cf96d752-02a9-4d77-828c-06be22e56af9",
   "metadata": {},
   "source": [
    "Governing Uplift Force"
   ]
  },
  {
   "cell_type": "code",
   "execution_count": 16,
   "id": "eb28f836-0df4-4ad6-a97b-5cb8f25c895a",
   "metadata": {},
   "outputs": [],
   "source": [
    "LC_uplift = min(LC1, LC2_min, LC3_min, LC4_min, LC5_min)"
   ]
  },
  {
   "cell_type": "code",
   "execution_count": 17,
   "id": "c5702885-c817-4895-9aa7-c6ef6e3b8805",
   "metadata": {},
   "outputs": [
    {
     "data": {
      "text/latex": [
       "\\[\n",
       "\\begin{aligned}\n",
       "\\mathrm{LC}_{uplift} &= 0.000\\ \\mathrm{N} \\; \n",
       "\\end{aligned}\n",
       "\\]"
      ],
      "text/plain": [
       "<IPython.core.display.Latex object>"
      ]
     },
     "metadata": {},
     "output_type": "display_data"
    }
   ],
   "source": [
    "%%render\n",
    "LC_uplift"
   ]
  }
 ],
 "metadata": {
  "kernelspec": {
   "display_name": "Python 3 (ipykernel)",
   "language": "python",
   "name": "python3"
  },
  "language_info": {
   "codemirror_mode": {
    "name": "ipython",
    "version": 3
   },
   "file_extension": ".py",
   "mimetype": "text/x-python",
   "name": "python",
   "nbconvert_exporter": "python",
   "pygments_lexer": "ipython3",
   "version": "3.9.12"
  }
 },
 "nbformat": 4,
 "nbformat_minor": 5
}
