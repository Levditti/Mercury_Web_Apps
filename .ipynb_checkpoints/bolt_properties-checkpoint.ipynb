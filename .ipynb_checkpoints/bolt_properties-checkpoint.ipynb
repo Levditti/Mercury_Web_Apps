{
 "cells": [
  {
   "cell_type": "raw",
   "id": "6685d08c-0168-41cb-8802-a20156157491",
   "metadata": {},
   "source": [
    "---\n",
    "title: Hilti Anchor Properties\n",
    "author: Levi Venditti\n",
    "description: Hilti Anchor Properties\n",
    "show-code: False\n",
    "show-prompt: False\n",
    "    anchor_type:\n",
    "        label: Anchor Type\n",
    "        input: select\n",
    "        value: W\n",
    "        choices: [W, M, S, HP, C, MC, L, WT, MT, ST, 2L, HSS, PIPE]\n",
    "    steel_label:\n",
    "        input: text \n",
    "        label: Steel Beam (Optional) \n",
    "        value:\n",
    "---"
   ]
  }
 ],
 "metadata": {
  "kernelspec": {
   "display_name": "Python 3 (ipykernel)",
   "language": "python",
   "name": "python3"
  },
  "language_info": {
   "codemirror_mode": {
    "name": "ipython",
    "version": 3
   },
   "file_extension": ".py",
   "mimetype": "text/x-python",
   "name": "python",
   "nbconvert_exporter": "python",
   "pygments_lexer": "ipython3",
   "version": "3.9.12"
  }
 },
 "nbformat": 4,
 "nbformat_minor": 5
}
