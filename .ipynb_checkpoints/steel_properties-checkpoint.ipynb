{
 "cells": [
  {
   "cell_type": "raw",
   "id": "830418e7-d47f-41a1-aa6e-153c8968185c",
   "metadata": {},
   "source": [
    "---\n",
    "title: Steel Properties\n",
    "author: Levi Venditti\n",
    "description: SI and Imperial Steel Member Properties\n",
    "show-code: False\n",
    "show-prompt: False\n",
    "params: \n",
    "    units:\n",
    "        label: Units\n",
    "        input: select\n",
    "        value: SI\n",
    "        choices: [SI, IMP]\n",
    "    steel_type:\n",
    "        label: Steel Type\n",
    "        input: select\n",
    "        value: W\n",
    "        choices: [W, M, S, HP, C, MC, L, WT, MT, ST, 2L, HSS, PIPE]\n",
    "    steel_label:\n",
    "        input: text \n",
    "        label: Steel Beam (Optional) \n",
    "        value:\n",
    "---"
   ]
  },
  {
   "cell_type": "code",
   "execution_count": 2,
   "id": "f5fe14d7-c123-46a3-a6d7-fa2a0d59989f",
   "metadata": {},
   "outputs": [
    {
     "ename": "ModuleNotFoundError",
     "evalue": "No module named 'aisc_db'",
     "output_type": "error",
     "traceback": [
      "\u001b[1;31m---------------------------------------------------------------------------\u001b[0m",
      "\u001b[1;31mModuleNotFoundError\u001b[0m                       Traceback (most recent call last)",
      "\u001b[1;32m~\\AppData\\Local\\Temp/ipykernel_23392/2512010050.py\u001b[0m in \u001b[0;36m<module>\u001b[1;34m\u001b[0m\n\u001b[0;32m      2\u001b[0m \u001b[1;32mimport\u001b[0m \u001b[0msys\u001b[0m\u001b[1;33m\u001b[0m\u001b[1;33m\u001b[0m\u001b[0m\n\u001b[0;32m      3\u001b[0m \u001b[0msys\u001b[0m\u001b[1;33m.\u001b[0m\u001b[0mpath\u001b[0m\u001b[1;33m.\u001b[0m\u001b[0mappend\u001b[0m\u001b[1;33m(\u001b[0m\u001b[1;34m'/Steel_Properties'\u001b[0m\u001b[1;33m)\u001b[0m\u001b[1;33m\u001b[0m\u001b[1;33m\u001b[0m\u001b[0m\n\u001b[1;32m----> 4\u001b[1;33m \u001b[1;32mimport\u001b[0m \u001b[0maisc_db\u001b[0m\u001b[1;33m\u001b[0m\u001b[1;33m\u001b[0m\u001b[0m\n\u001b[0m\u001b[0;32m      5\u001b[0m \u001b[1;32mfrom\u001b[0m \u001b[0msectionproperties\u001b[0m\u001b[1;33m.\u001b[0m\u001b[0manalysis\u001b[0m\u001b[1;33m.\u001b[0m\u001b[0msection\u001b[0m \u001b[1;32mimport\u001b[0m \u001b[0mSection\u001b[0m\u001b[1;33m\u001b[0m\u001b[1;33m\u001b[0m\u001b[0m\n\u001b[0;32m      6\u001b[0m \u001b[1;32mimport\u001b[0m \u001b[0mpandas\u001b[0m \u001b[1;32mas\u001b[0m \u001b[0mpd\u001b[0m\u001b[1;33m\u001b[0m\u001b[1;33m\u001b[0m\u001b[0m\n",
      "\u001b[1;31mModuleNotFoundError\u001b[0m: No module named 'aisc_db'"
     ]
    }
   ],
   "source": [
    "import pathlib\n",
    "import sys\n",
    "sys.path.append('/Documents/GitHub/Engineering/Steel_Properties')\n",
    "import aisc_db\n",
    "from sectionproperties.analysis.section import Section\n",
    "import pandas as pd\n",
    "pd.set_option('display.max_columns', None)"
   ]
  },
  {
   "cell_type": "code",
   "execution_count": null,
   "id": "75116a58-24f0-401d-bcaa-04241789fa8a",
   "metadata": {},
   "outputs": [],
   "source": [
    "units = 'IMP'\n",
    "steel_type = 'W'\n",
    "guide_checkbox = 'True'\n",
    "steel_label = \"\""
   ]
  },
  {
   "cell_type": "code",
   "execution_count": null,
   "id": "316d984b-aaa1-49ac-9fe1-d813607a4471",
   "metadata": {},
   "outputs": [],
   "source": [
    "pd.set_option('display.max_rows', None)"
   ]
  },
  {
   "cell_type": "code",
   "execution_count": null,
   "id": "e9f64d6d-2f70-4874-8d41-67d23163d940",
   "metadata": {},
   "outputs": [],
   "source": [
    "if units == 'IMP':\n",
    "    df = pathlib.Path.cwd() / \"Documents\" / \"GitHub\" / \"Engineering\" / \"Steel_Properties\" / \"aisc_db.load_aisc_db('us')\"\n",
    "    # df = \"aisc_db.load_aisc_db('us')\"\n",
    "else: \n",
    "    df = pathlib.Path.cwd() / \"Documents\" / \"GitHub\" / \"Engineering\" / \"Steel_Properties\" / \"aisc_db.load_aisc_db('si')\"\n",
    "    # df = aisc_db.load_aisc_db('si') "
   ]
  },
  {
   "cell_type": "code",
   "execution_count": null,
   "id": "70577aeb-cb4c-45a7-83b1-4f7f7dbab6b0",
   "metadata": {},
   "outputs": [],
   "source": [
    "def section_by_beam(aisc_db: pd.DataFrame, steel_label: str) -> pd.DataFrame:\n",
    "    \"\"\"\n",
    "    Returns df with sections of that beam\n",
    "    \"\"\"\n",
    "    if units == 'IMP':\n",
    "        return aisc_db.loc[aisc_db.Imp_Label == steel_label]\n",
    "    else:\n",
    "        return aisc_db.loc[aisc_db.SI_Label == steel_label]"
   ]
  },
  {
   "cell_type": "markdown",
   "id": "a21d34f7-f754-45fb-ac96-c7c53ad76bbb",
   "metadata": {},
   "source": [
    "# Steel Properties"
   ]
  },
  {
   "cell_type": "code",
   "execution_count": null,
   "id": "cc95d801-1931-48f8-a7e7-6f2391106215",
   "metadata": {},
   "outputs": [],
   "source": [
    "selections = aisc_db.sections_by_type(df, steel_type)\n",
    "selection = section_by_beam(df, steel_label)\n",
    "\n",
    "if steel_label != \"\":\n",
    "    display = selection.style.hide(axis='index')\n",
    "elif steel_type == 'W':\n",
    "    display = selections[['SI_Label', 'Imp_Label', 'W', 'A', 'd', 'bf', 'tw', 'tf', 'kdes', 'kdet', 'k1', 'bf/2tf', 'h/tw', 'Ix', 'Zx', 'Sx', 'rx', 'Iy', 'Zy', 'Sy', 'ry', 'J', 'Cw', 'Wno', 'Sw1', 'Qf', 'Qw', 'rts', 'ho', 'PA', 'PB', 'PC', 'PD', 'T', 'WGi']].style.hide(axis='index')\n",
    "elif steel_type == 'M':\n",
    "    display = selections[['SI_Label', 'Imp_Label', 'W', 'A', 'd', 'bf', 'tw', 'tf', 'kdes', 'kdet', 'k1', 'bf/2tf', 'h/tw', 'Ix', 'Zx', 'Sx', 'rx', 'Iy', 'Zy', 'Sy', 'ry', 'J', 'Cw', 'Wno', 'Sw1', 'Qf', 'Qw', 'rts', 'ho', 'PA', 'PB', 'PC', 'PD', 'T']].style.hide(axis='index')\n",
    "elif steel_type == 'S':\n",
    "    display = selections[['SI_Label', 'Imp_Label', 'W', 'A', 'd', 'bf', 'tw', 'tf', 'kdes', 'kdet', 'bf/2tf', 'h/tw', 'Ix', 'Zx', 'Sx', 'rx', 'Iy', 'Zy', 'Sy', 'ry', 'J', 'Cw', 'Wno', 'Sw1', 'Qf', 'Qw', 'rts', 'ho', 'PA', 'PB', 'PC', 'PD', 'T', 'WGi']].style.hide(axis='index')\n",
    "elif steel_type == 'HP':\n",
    "    display = selections[['SI_Label', 'Imp_Label', 'W', 'A', 'd', 'Ht', 'bf', 'tw', 'tf', 'kdes', 'kdet', 'k1', 'bf/2tf', 'h/tw', 'Ix', 'Zx', 'Sx', 'rx', 'Iy', 'Zy', 'Sy', 'ry', 'J', 'Cw', 'Wno', 'Sw1', 'Qf', 'Qw', 'rts', 'ho', 'PA', 'PB', 'PC', 'PD', 'T', 'WGi']].style.hide(axis='index')\n",
    "elif steel_type == 'C':\n",
    "    display = selections[['SI_Label', 'Imp_Label', 'W', 'A', 'd', 'bf', 'tw', 'tf', 'kdes', 'kdet', 'x', 'eo', 'xp', 'b/t', 'h/tw', 'Ix', 'Zx', 'Sx', 'rx', 'Iy', 'Zy', 'Sy', 'ry', 'J', 'Cw', 'Wno', 'Sw1', 'Sw2', 'Sw3', 'Qf', 'Qw', 'ro', 'H', 'rts', 'ho', 'PA', 'PB', 'PC', 'PD', 'T', 'WGi']].style.hide(axis='index')\n",
    "elif steel_type == 'MC':\n",
    "    display = selections[['SI_Label', 'Imp_Label', 'W', 'A', 'd', 'bf', 'tw', 'tf', 'kdes', 'kdet', 'x', 'eo', 'xp', 'b/t', 'h/tw', 'Ix', 'Zx', 'Sx', 'rx', 'Iy', 'Zy', 'Sy', 'ry', 'J', 'Cw', 'Wno', 'Sw1', 'Sw2', 'Sw3', 'Qf', 'Qw', 'ro', 'H', 'rts', 'ho', 'PA', 'PB', 'PC', 'PD', 'T', 'WGi']].style.hide(axis='index')\n",
    "elif steel_type == 'L':\n",
    "    display = selections[['SI_Label', 'Imp_Label', 'W', 'A', 'd', 'b', 't', 'kdes', 'kdet', 'x', 'y', 'xp', 'yp', 'b/t', 'Ix', 'Zx', 'Sx', 'rx', 'Iy', 'Zy', 'Sy', 'ry', 'Iz', 'rz', 'Sz', 'J', 'Cw', 'ro', 'H', 'tan(α)', 'Iw', 'zA', 'zB', 'zC', 'wA', 'wB', 'wC', 'SwA', 'SwC', 'SzA', 'SzB', 'SzC', 'PA', 'PA2', 'PB']].style.hide(axis='index')\n",
    "elif steel_type == 'WT':\n",
    "    display = selections[['SI_Label', 'Imp_Label', 'W', 'A', 'd', 'bf', 'tw', 'tf', 'kdes', 'kdet', 'y', 'yp', 'bf/2tf', 'D/t', 'Ix', 'Zx', 'Sx', 'rx', 'Iy', 'Zy', 'Sy', 'ry', 'J', 'Cw', 'ro', 'H', 'PA', 'PB', 'PC', 'PD', 'WGi']].style.hide(axis='index')\n",
    "elif steel_type == 'MT':\n",
    "    display = selections[['SI_Label', 'Imp_Label', 'W', 'A', 'd', 'bf', 'tw', 'tf', 'kdes', 'kdet', 'y', 'yp', 'bf/2tf', 'D/t', 'Ix', 'Zx', 'Sx', 'rx', 'Iy', 'Zy', 'Sy', 'ry', 'J', 'Cw', 'ro', 'H']].style.hide(axis='index')\n",
    "elif steel_type == 'ST':\n",
    "    display = selections[['SI_Label', 'Imp_Label', 'W', 'A', 'd', 'bf', 'tw', 'tf', 'kdes', 'kdet', 'y', 'yp', 'bf/2tf', 'D/t', 'Ix', 'Zx', 'Sx', 'rx', 'Iy', 'Zy', 'Sy', 'ry', 'J', 'Cw', 'ro', 'H', 'WGi']].style.hide(axis='index')\n",
    "elif steel_type == '2L':\n",
    "    display = selections[['SI_Label', 'Imp_Label', 'W', 'A', 'd', 'b', 't', 'y', 'yp', 'b/t', 'Ix', 'Zx', 'Sx', 'rx', 'Iy', 'Zy', 'Sy', 'ry', 'ro', 'H']].style.hide(axis='index')\n",
    "elif steel_type == 'HSS':\n",
    "    display = selections[['SI_Label', 'Imp_Label', 'W', 'A', 'Ht', 'h', 'OD', 'B', 'b', 'ID', 'tnom', 'tdes', 'b/tdes', 'h/tdes', 'D/t', 'Ix', 'Zx', 'Sx', 'rx', 'Iy', 'Zy', 'Sy', 'ry', 'J', 'C']].style.hide(axis='index')\n",
    "elif steel_type == 'PIPE':\n",
    "    display = selections[['SI_Label', 'Imp_Label', 'W', 'A', 'OD', 'ID', 'tnom', 'tdes', 'D/t', 'Ix', 'Zx', 'Sx', 'rx', 'Iy', 'Zy', 'Sy', 'ry', 'J']].style.hide(axis='index')"
   ]
  },
  {
   "cell_type": "code",
   "execution_count": null,
   "id": "1083d69f-a60f-4876-9546-9d96eef9df93",
   "metadata": {},
   "outputs": [],
   "source": [
    "display"
   ]
  },
  {
   "cell_type": "markdown",
   "id": "37a726db-db03-41ff-9ed4-581a0d29ddca",
   "metadata": {},
   "source": [
    "# Symbol Guide"
   ]
  },
  {
   "cell_type": "code",
   "execution_count": null,
   "id": "fe8fefc0-1a36-45fa-9af2-5b8f9726e288",
   "metadata": {},
   "outputs": [],
   "source": [
    "pd.set_option('display.max_colwidth', None)\n",
    "guide_csv = pd.read_csv('aisc_symbols.csv')\n",
    "guide_csv.style.hide(axis='index')"
   ]
  },
  {
   "cell_type": "code",
   "execution_count": null,
   "id": "2ab5a516-3ed8-40fe-a798-61531bb0abd0",
   "metadata": {},
   "outputs": [],
   "source": []
  }
 ],
 "metadata": {
  "kernelspec": {
   "display_name": "Python 3 (ipykernel)",
   "language": "python",
   "name": "python3"
  },
  "language_info": {
   "codemirror_mode": {
    "name": "ipython",
    "version": 3
   },
   "file_extension": ".py",
   "mimetype": "text/x-python",
   "name": "python",
   "nbconvert_exporter": "python",
   "pygments_lexer": "ipython3",
   "version": "3.9.12"
  }
 },
 "nbformat": 4,
 "nbformat_minor": 5
}
